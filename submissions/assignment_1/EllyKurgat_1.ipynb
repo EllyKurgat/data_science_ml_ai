{
 "cells": [
  {
   "cell_type": "code",
   "execution_count": null,
   "metadata": {},
   "outputs": [],
   "source": [
    "def TriangleArea (base, height):\n",
    "    area = 0.5 * base * height\n",
    "    return area\n",
    "\n",
    "base = int(input(\"Enter the base of the triangle: \"))\n",
    "height = int(input(\"Enter the height of the triangle: \"))\n",
    "area = TriangleArea(base, height)\n",
    "\n",
    "\n",
    "print(\"The area of the triangle is \" +  str(area))\n"
   ]
  }
 ],
 "metadata": {
  "kernelspec": {
   "display_name": "Python 3",
   "language": "python",
   "name": "python3"
  },
  "language_info": {
   "name": "python",
   "version": "3.13.1"
  }
 },
 "nbformat": 4,
 "nbformat_minor": 2
}
